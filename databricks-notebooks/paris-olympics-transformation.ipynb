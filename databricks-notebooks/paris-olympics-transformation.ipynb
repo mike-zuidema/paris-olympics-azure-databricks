{
 "cells": [
  {
   "cell_type": "markdown",
   "metadata": {
    "application/vnd.databricks.v1+cell": {
     "cellMetadata": {
      "byteLimit": 2048000,
      "rowLimit": 10000
     },
     "inputWidgets": {},
     "nuid": "e9d79d1b-15a9-400c-bae4-3552b6697b4c",
     "showTitle": false,
     "title": ""
    }
   },
   "source": [
    "### Import modules\n",
    "___\n"
   ]
  },
  {
   "cell_type": "code",
   "execution_count": null,
   "metadata": {
    "application/vnd.databricks.v1+cell": {
     "cellMetadata": {
      "byteLimit": 2048000,
      "rowLimit": 10000
     },
     "inputWidgets": {},
     "nuid": "aeb7532c-5772-4273-8018-d11200d8d16b",
     "showTitle": false,
     "title": ""
    }
   },
   "outputs": [],
   "source": [
    "# Import modules\n",
    "import os\n",
    "from pathlib import Path"
   ]
  },
  {
   "cell_type": "markdown",
   "metadata": {
    "application/vnd.databricks.v1+cell": {
     "cellMetadata": {
      "byteLimit": 2048000,
      "rowLimit": 10000
     },
     "inputWidgets": {},
     "nuid": "362fccc2-0a99-45ed-8d47-8da3bde3432a",
     "showTitle": false,
     "title": ""
    }
   },
   "source": [
    "### Setup params & configs\n",
    "___"
   ]
  },
  {
   "cell_type": "code",
   "execution_count": null,
   "metadata": {
    "application/vnd.databricks.v1+cell": {
     "cellMetadata": {
      "byteLimit": 2048000,
      "rowLimit": 10000
     },
     "inputWidgets": {},
     "nuid": "ce4ab5d3-0894-4b7d-9f4a-9e9e542073d8",
     "showTitle": false,
     "title": ""
    }
   },
   "outputs": [],
   "source": [
    "# Setup configs for Azure Gen 2 Blob Storage\n",
    "configs = {\n",
    "    \"fs.azure.account.auth.type\": \"OAuth\",\n",
    "    \"fs.azure.account.oauth.provider.type\": \"org.apache.hadoop.fs.azurebfs.oauth2.ClientCredsTokenProvider\",\n",
    "    \"fs.azure.account.oauth2.client.id\": \"client_id\",\n",
    "    \"fs.azure.account.oauth2.client.secret\": \"client_secret\",\n",
    "    \"fs.azure.account.oauth2.client.endpoint\": \"https://login.microsoftonline.com/tenant_id/oauth2/token\"\n",
    "    }"
   ]
  },
  {
   "cell_type": "code",
   "execution_count": null,
   "metadata": {
    "application/vnd.databricks.v1+cell": {
     "cellMetadata": {
      "byteLimit": 2048000,
      "rowLimit": 10000
     },
     "inputWidgets": {},
     "nuid": "48fc86f2-53f2-4c2f-9aae-bfbe7e598799",
     "showTitle": false,
     "title": ""
    }
   },
   "outputs": [
    {
     "name": "stdout",
     "output_type": "stream",
     "text": [
      "Mounted: /mnt/paris-olympic-data\n"
     ]
    }
   ],
   "source": [
    "# Check if the mount point already exists\n",
    "mount_point = \"/mnt/paris-olympic-data\"\n",
    "\n",
    "# Unmount if the mount point exists\n",
    "if any(mount.mountPoint == mount_point for mount in dbutils.fs.mounts()):\n",
    "    dbutils.fs.unmount(mount_point)\n",
    "    print(f\"Unmounted: {mount_point}\")\n",
    "\n",
    "# Mount the Azure Blob Storage (as if it were a local file system)\n",
    "dbutils.fs.mount(\n",
    "    source = \"abfss://paris-olympic-data@parisdata.dfs.core.windows.net\", # contrainer@storageacc\n",
    "    mount_point = mount_point,\n",
    "    extra_configs = configs\n",
    "    )\n",
    "\n",
    "print(f\"Mounted: {mount_point}\")"
   ]
  },
  {
   "cell_type": "code",
   "execution_count": null,
   "metadata": {
    "application/vnd.databricks.v1+cell": {
     "cellMetadata": {
      "byteLimit": 2048000,
      "rowLimit": 10000
     },
     "inputWidgets": {},
     "nuid": "59984155-20ed-4d91-8cfa-36cf4852e310",
     "showTitle": false,
     "title": ""
    }
   },
   "outputs": [
    {
     "data": {
      "text/html": [
       "<style scoped>\n",
       "  .table-result-container {\n",
       "    max-height: 300px;\n",
       "    overflow: auto;\n",
       "  }\n",
       "  table, th, td {\n",
       "    border: 1px solid black;\n",
       "    border-collapse: collapse;\n",
       "  }\n",
       "  th, td {\n",
       "    padding: 5px;\n",
       "  }\n",
       "  th {\n",
       "    text-align: left;\n",
       "  }\n",
       "</style><div class='table-result-container'><table class='table-result'><thead style='background-color: white'><tr><th>path</th><th>name</th><th>size</th><th>modificationTime</th></tr></thead><tbody><tr><td>dbfs:/mnt/paris-olympic-data/data-raw/</td><td>data-raw/</td><td>0</td><td>1725478007000</td></tr><tr><td>dbfs:/mnt/paris-olympic-data/data-transformed/</td><td>data-transformed/</td><td>0</td><td>1725478017000</td></tr></tbody></table></div>"
      ]
     },
     "metadata": {
      "application/vnd.databricks.v1+output": {
       "addedWidgets": {},
       "aggData": [],
       "aggError": "",
       "aggOverflow": false,
       "aggSchema": [],
       "aggSeriesLimitReached": false,
       "aggType": "",
       "arguments": {},
       "columnCustomDisplayInfos": {},
       "data": [
        [
         "dbfs:/mnt/paris-olympic-data/data-raw/",
         "data-raw/",
         0,
         1725478007000
        ],
        [
         "dbfs:/mnt/paris-olympic-data/data-transformed/",
         "data-transformed/",
         0,
         1725478017000
        ]
       ],
       "datasetInfos": [],
       "dbfsResultPath": null,
       "isJsonSchema": true,
       "metadata": {
        "isDbfsCommandResult": false
       },
       "overflow": false,
       "plotOptions": {
        "customPlotOptions": {},
        "displayType": "table",
        "pivotAggregation": null,
        "pivotColumns": null,
        "xColumns": null,
        "yColumns": null
       },
       "removedWidgets": [],
       "schema": [
        {
         "metadata": "{}",
         "name": "path",
         "type": "\"string\""
        },
        {
         "metadata": "{}",
         "name": "name",
         "type": "\"string\""
        },
        {
         "metadata": "{}",
         "name": "size",
         "type": "\"long\""
        },
        {
         "metadata": "{}",
         "name": "modificationTime",
         "type": "\"long\""
        }
       ],
       "type": "table"
      }
     },
     "output_type": "display_data"
    }
   ],
   "source": [
    "%fs\n",
    "ls \"/mnt/paris-olympic-data\""
   ]
  },
  {
   "cell_type": "code",
   "execution_count": null,
   "metadata": {
    "application/vnd.databricks.v1+cell": {
     "cellMetadata": {
      "byteLimit": 2048000,
      "rowLimit": 10000
     },
     "inputWidgets": {},
     "nuid": "52a3f04a-e1ef-4360-9431-f8234838f583",
     "showTitle": false,
     "title": ""
    }
   },
   "outputs": [
    {
     "data": {
      "text/html": [
       "\n",
       "            <div>\n",
       "                <p><b>SparkSession - hive</b></p>\n",
       "                \n",
       "        <div>\n",
       "            <p><b>SparkContext</b></p>\n",
       "\n",
       "            <p><a href=\"/?o=1825294605134253#setting/sparkui/0905-141424-e5t8kdok/driver-6055527111394115493\">Spark UI</a></p>\n",
       "\n",
       "            <dl>\n",
       "              <dt>Version</dt>\n",
       "                <dd><code>v3.5.0</code></dd>\n",
       "              <dt>Master</dt>\n",
       "                <dd><code>local[*, 4]</code></dd>\n",
       "              <dt>AppName</dt>\n",
       "                <dd><code>Databricks Shell</code></dd>\n",
       "            </dl>\n",
       "        </div>\n",
       "        \n",
       "            </div>\n",
       "        "
      ],
      "text/plain": [
       "<pyspark.sql.session.SparkSession at 0x7f21ae11df00>"
      ]
     },
     "execution_count": 13,
     "metadata": {},
     "output_type": "execute_result"
    }
   ],
   "source": [
    "# Initialize Spark session\n",
    "spark"
   ]
  },
  {
   "cell_type": "markdown",
   "metadata": {
    "application/vnd.databricks.v1+cell": {
     "cellMetadata": {
      "byteLimit": 2048000,
      "rowLimit": 10000
     },
     "inputWidgets": {},
     "nuid": "8166cbcb-b7b3-4f28-b8cf-5a06f98efce7",
     "showTitle": false,
     "title": ""
    }
   },
   "source": [
    "### Load data\n",
    "___"
   ]
  },
  {
   "cell_type": "code",
   "execution_count": null,
   "metadata": {
    "application/vnd.databricks.v1+cell": {
     "cellMetadata": {
      "byteLimit": 2048000,
      "rowLimit": 10000
     },
     "inputWidgets": {},
     "nuid": "3a5060a1-33d4-46f8-959c-24db132bea89",
     "showTitle": false,
     "title": ""
    }
   },
   "outputs": [],
   "source": [
    "# Read the data into Spark DataFrames\n",
    "athletes = spark.read.format(\"csv\").option(\"header\",\"true\").option(\"inferSchema\",\"true\").load(\"/mnt/paris-olympic-data/data-raw/athletes.csv\")\n",
    "coaches = spark.read.format(\"csv\").option(\"header\",\"true\").option(\"inferSchema\",\"true\").load(\"/mnt/paris-olympic-data/data-raw/coaches.csv\")\n",
    "medals = spark.read.format(\"csv\").option(\"header\",\"true\").option(\"inferSchema\",\"true\").load(\"/mnt/paris-olympic-data/data-raw/medals.csv\")\n",
    "teams = spark.read.format(\"csv\").option(\"header\",\"true\").option(\"inferSchema\",\"true\").load(\"/mnt/paris-olympic-data/data-raw/teams.csv\")"
   ]
  },
  {
   "cell_type": "markdown",
   "metadata": {
    "application/vnd.databricks.v1+cell": {
     "cellMetadata": {
      "byteLimit": 2048000,
      "rowLimit": 10000
     },
     "inputWidgets": {},
     "nuid": "b2811070-aeee-4928-8c2f-84922b61b19e",
     "showTitle": false,
     "title": ""
    }
   },
   "source": [
    "### View data\n",
    "___"
   ]
  },
  {
   "cell_type": "code",
   "execution_count": null,
   "metadata": {
    "application/vnd.databricks.v1+cell": {
     "cellMetadata": {
      "byteLimit": 2048000,
      "rowLimit": 10000
     },
     "inputWidgets": {},
     "nuid": "0f311247-5ead-4ba0-9073-f3228acab781",
     "showTitle": false,
     "title": ""
    }
   },
   "outputs": [
    {
     "name": "stdout",
     "output_type": "stream",
     "text": [
      "+-------+-------+--------------------+---------------+--------------------+------+--------+------------+--------+------------+\n",
      "|   code|current|                name|     name_short|             name_tv|gender|function|country_code| country|country_long|\n",
      "+-------+-------+--------------------+---------------+--------------------+------+--------+------------+--------+------------+\n",
      "|1532872|   true|    ALEKSANYAN Artur|   ALEKSANYAN A|    Artur ALEKSANYAN|  Male| Athlete|         ARM| Armenia|     Armenia|\n",
      "|1532873|   true|      AMOYAN Malkhas|       AMOYAN M|      Malkhas AMOYAN|  Male| Athlete|         ARM| Armenia|     Armenia|\n",
      "|1532874|   true|     GALSTYAN Slavik|     GALSTYAN S|     Slavik GALSTYAN|  Male| Athlete|         ARM| Armenia|     Armenia|\n",
      "|1532944|   true|   HARUTYUNYAN Arsen|  HARUTYUNYAN A|   Arsen HARUTYUNYAN|  Male| Athlete|         ARM| Armenia|     Armenia|\n",
      "|1532945|   true|     TEVANYAN Vazgen|     TEVANYAN V|     Vazgen TEVANYAN|  Male| Athlete|         ARM| Armenia|     Armenia|\n",
      "|1532951|   true|       ARENAS Lorena|       ARENAS L|       Lorena ARENAS|Female| Athlete|         COL|Colombia|    Colombia|\n",
      "|1533112|   true|     McKENZIE Ashley|     McKENZIE A|     Ashley McKENZIE|  Male| Athlete|         JAM| Jamaica|     Jamaica|\n",
      "|1533136|   true|BASS BITTAYE Gina...|BASS BITTAYE GM|Gina Mariam BASS ...|Female| Athlete|         GAM|  Gambia|      Gambia|\n",
      "|1533176|   true|     CAMARA Ebrahima|       CAMARA E|     Ebrahima CAMARA|  Male| Athlete|         GAM|  Gambia|      Gambia|\n",
      "|1533188|   true| RUEDA SANTOS Lizeth| RUEDA SANTOS L| Lizeth RUEDA SANTOS|Female| Athlete|         MEX|  Mexico|      Mexico|\n",
      "+-------+-------+--------------------+---------------+--------------------+------+--------+------------+--------+------------+\n",
      "only showing top 10 rows\n",
      "\n"
     ]
    }
   ],
   "source": [
    "# Display data\n",
    "# Limit to 10x10 so it prints nicely\n",
    "athletes[athletes.columns[0:10]].show(n=10)"
   ]
  },
  {
   "cell_type": "code",
   "execution_count": null,
   "metadata": {
    "application/vnd.databricks.v1+cell": {
     "cellMetadata": {
      "byteLimit": 2048000,
      "rowLimit": 10000
     },
     "inputWidgets": {},
     "nuid": "bd0b2e7a-4305-450d-8150-138f118fc6ad",
     "showTitle": false,
     "title": ""
    }
   },
   "outputs": [
    {
     "name": "stdout",
     "output_type": "stream",
     "text": [
      "root\n",
      " |-- code: integer (nullable = true)\n",
      " |-- current: boolean (nullable = true)\n",
      " |-- name: string (nullable = true)\n",
      " |-- name_short: string (nullable = true)\n",
      " |-- name_tv: string (nullable = true)\n",
      " |-- gender: string (nullable = true)\n",
      " |-- function: string (nullable = true)\n",
      " |-- country_code: string (nullable = true)\n",
      " |-- country: string (nullable = true)\n",
      " |-- country_long: string (nullable = true)\n",
      " |-- nationality: string (nullable = true)\n",
      " |-- nationality_long: string (nullable = true)\n",
      " |-- nationality_code: string (nullable = true)\n",
      " |-- height: double (nullable = true)\n",
      " |-- weight: double (nullable = true)\n",
      " |-- disciplines: string (nullable = true)\n",
      " |-- events: string (nullable = true)\n",
      " |-- birth_date: string (nullable = true)\n",
      " |-- birth_place: string (nullable = true)\n",
      " |-- birth_country: string (nullable = true)\n",
      " |-- residence_place: string (nullable = true)\n",
      " |-- residence_country: string (nullable = true)\n",
      " |-- nickname: string (nullable = true)\n",
      " |-- hobbies: string (nullable = true)\n",
      " |-- occupation: string (nullable = true)\n",
      " |-- education: string (nullable = true)\n",
      " |-- family: string (nullable = true)\n",
      " |-- lang: string (nullable = true)\n",
      " |-- coach: string (nullable = true)\n",
      " |-- reason: string (nullable = true)\n",
      " |-- hero: string (nullable = true)\n",
      " |-- influence: string (nullable = true)\n",
      " |-- philosophy: string (nullable = true)\n",
      " |-- sporting_relatives: string (nullable = true)\n",
      " |-- ritual: string (nullable = true)\n",
      " |-- other_sports: string (nullable = true)\n",
      "\n"
     ]
    }
   ],
   "source": [
    "# Print schema\n",
    "athletes.printSchema()"
   ]
  },
  {
   "cell_type": "code",
   "execution_count": null,
   "metadata": {
    "application/vnd.databricks.v1+cell": {
     "cellMetadata": {
      "byteLimit": 2048000,
      "rowLimit": 10000
     },
     "inputWidgets": {},
     "nuid": "0dfa2a9d-eef2-46a6-9518-cbcb2f285187",
     "showTitle": false,
     "title": ""
    }
   },
   "outputs": [
    {
     "name": "stdout",
     "output_type": "stream",
     "text": [
      "+-------+-------+-------------------+------+---------------+--------+------------+---------+--------------------+-----------------+\n",
      "|   code|current|               name|gender|       function|category|country_code|  country|        country_long|      disciplines|\n",
      "+-------+-------+-------------------+------+---------------+--------+------------+---------+--------------------+-----------------+\n",
      "|1533246|   true|     PEDRERO Ofelia|Female|          Coach|       C|         MEX|   Mexico|              Mexico|Artistic Swimming|\n",
      "|1535775|   true|   RADHI SHENAISHIL|  Male|     Head Coach|       C|         IRQ|     Iraq|                Iraq|         Football|\n",
      "|1536055|   true|AFLAKIKHAMSEH Majid|  Male|          Coach|       C|         IRI|  IR Iran|Islamic Republic ...|        Taekwondo|\n",
      "|1536059|   true|    YOUSEFY Mehrdad|  Male|          Coach|       C|         IRI|  IR Iran|Islamic Republic ...|        Taekwondo|\n",
      "|1536060|   true|       MADDAH Minoo|Female|          Coach|       C|         IRI|  IR Iran|Islamic Republic ...|        Taekwondo|\n",
      "|1536328|   true|     LOFTUS Adriana|Female|          Coach|       C|         MEX|   Mexico|              Mexico|Artistic Swimming|\n",
      "|1538313|   true|   FERRARA Fernando|  Male|     Head Coach|       C|         ARG|Argentina|           Argentina|           Hockey|\n",
      "|1538315|   true|    GULLA Alejandra|Female|Assistant Coach|       C|         ARG|Argentina|           Argentina|           Hockey|\n",
      "|1538317|   true|   CAPURRO Santiago|  Male|Assistant Coach|       C|         ARG|Argentina|           Argentina|           Hockey|\n",
      "|1538745|   true|    RONCONI Mariano|  Male|     Head Coach|       C|         ARG|Argentina|           Argentina|           Hockey|\n",
      "+-------+-------+-------------------+------+---------------+--------+------------+---------+--------------------+-----------------+\n",
      "only showing top 10 rows\n",
      "\n"
     ]
    }
   ],
   "source": [
    "coaches[coaches.columns[0:10]].show(n=10)"
   ]
  },
  {
   "cell_type": "code",
   "execution_count": null,
   "metadata": {
    "application/vnd.databricks.v1+cell": {
     "cellMetadata": {
      "byteLimit": 2048000,
      "rowLimit": 10000
     },
     "inputWidgets": {},
     "nuid": "48c36869-0b38-4994-8f71-e010f18b70b5",
     "showTitle": false,
     "title": ""
    }
   },
   "outputs": [
    {
     "name": "stdout",
     "output_type": "stream",
     "text": [
      "root\n",
      " |-- code: integer (nullable = true)\n",
      " |-- current: boolean (nullable = true)\n",
      " |-- name: string (nullable = true)\n",
      " |-- gender: string (nullable = true)\n",
      " |-- function: string (nullable = true)\n",
      " |-- category: string (nullable = true)\n",
      " |-- country_code: string (nullable = true)\n",
      " |-- country: string (nullable = true)\n",
      " |-- country_long: string (nullable = true)\n",
      " |-- disciplines: string (nullable = true)\n",
      " |-- events: string (nullable = true)\n",
      " |-- birth_date: date (nullable = true)\n",
      "\n"
     ]
    }
   ],
   "source": [
    "coaches.printSchema()"
   ]
  },
  {
   "cell_type": "code",
   "execution_count": null,
   "metadata": {
    "application/vnd.databricks.v1+cell": {
     "cellMetadata": {
      "byteLimit": 2048000,
      "rowLimit": 10000
     },
     "inputWidgets": {},
     "nuid": "c60ed41e-d6b2-4b73-8122-69dc979805af",
     "showTitle": false,
     "title": ""
    }
   },
   "outputs": [
    {
     "name": "stdout",
     "output_type": "stream",
     "text": [
      "+------------+----------+----------+---------------+------+------------+--------------------+----------+--------------------+-----------------+\n",
      "|  medal_type|medal_code|medal_date|           name|gender|  discipline|               event|event_type|           url_event|             code|\n",
      "+------------+----------+----------+---------------+------+------------+--------------------+----------+--------------------+-----------------+\n",
      "|  Gold Medal|       1.0|2024-07-27|Remco EVENEPOEL|     M|Cycling Road|Men's Individual ...|       ATH|/en/paris-2024/re...|          1903136|\n",
      "|Silver Medal|       2.0|2024-07-27|  Filippo GANNA|     M|Cycling Road|Men's Individual ...|       ATH|/en/paris-2024/re...|          1923520|\n",
      "|Bronze Medal|       3.0|2024-07-27|  Wout van AERT|     M|Cycling Road|Men's Individual ...|       ATH|/en/paris-2024/re...|          1903147|\n",
      "|  Gold Medal|       1.0|2024-07-27|    Grace BROWN|     W|Cycling Road|Women's Individua...|       ATH|/en/paris-2024/re...|          1940173|\n",
      "|Silver Medal|       2.0|2024-07-27| Anna HENDERSON|     W|Cycling Road|Women's Individua...|       ATH|/en/paris-2024/re...|          1912525|\n",
      "|Bronze Medal|       3.0|2024-07-27|   Chloe DYGERT|     W|Cycling Road|Women's Individua...|       ATH|/en/paris-2024/re...|          1955079|\n",
      "|  Gold Medal|       1.0|2024-07-27|          China|     W|      Diving|Women's Synchroni...|      TEAM|/en/paris-2024/re...|DIVW3MTEAM2-CHN01|\n",
      "|Silver Medal|       2.0|2024-07-27|  United States|     W|      Diving|Women's Synchroni...|      TEAM|/en/paris-2024/re...|DIVW3MTEAM2-USA01|\n",
      "|Bronze Medal|       3.0|2024-07-27|  Great Britain|     W|      Diving|Women's Synchroni...|      TEAM|/en/paris-2024/re...|DIVW3MTEAM2-GBR01|\n",
      "|  Gold Medal|       1.0|2024-07-27|      OH Sanguk|     M|     Fencing|Men's Sabre Indiv...|      HATH|/en/paris-2024/re...|          1927149|\n",
      "+------------+----------+----------+---------------+------+------------+--------------------+----------+--------------------+-----------------+\n",
      "only showing top 10 rows\n",
      "\n"
     ]
    }
   ],
   "source": [
    "medals[medals.columns[0:10]].show(n=10)"
   ]
  },
  {
   "cell_type": "code",
   "execution_count": null,
   "metadata": {
    "application/vnd.databricks.v1+cell": {
     "cellMetadata": {
      "byteLimit": 2048000,
      "rowLimit": 10000
     },
     "inputWidgets": {},
     "nuid": "059aa143-e3f8-4368-842e-e66fa9487d58",
     "showTitle": false,
     "title": ""
    }
   },
   "outputs": [
    {
     "name": "stdout",
     "output_type": "stream",
     "text": [
      "root\n",
      " |-- medal_type: string (nullable = true)\n",
      " |-- medal_code: double (nullable = true)\n",
      " |-- medal_date: date (nullable = true)\n",
      " |-- name: string (nullable = true)\n",
      " |-- gender: string (nullable = true)\n",
      " |-- discipline: string (nullable = true)\n",
      " |-- event: string (nullable = true)\n",
      " |-- event_type: string (nullable = true)\n",
      " |-- url_event: string (nullable = true)\n",
      " |-- code: string (nullable = true)\n",
      " |-- country_code: string (nullable = true)\n",
      " |-- country: string (nullable = true)\n",
      " |-- country_long: string (nullable = true)\n",
      "\n"
     ]
    }
   ],
   "source": [
    "medals.printSchema()"
   ]
  },
  {
   "cell_type": "code",
   "execution_count": null,
   "metadata": {
    "application/vnd.databricks.v1+cell": {
     "cellMetadata": {
      "byteLimit": 2048000,
      "rowLimit": 10000
     },
     "inputWidgets": {},
     "nuid": "81734808-02f9-48a5-ae76-d07298dc8f62",
     "showTitle": false,
     "title": ""
    }
   },
   "outputs": [
    {
     "name": "stdout",
     "output_type": "stream",
     "text": [
      "+-----------------+-------+--------------------+-----------+------------+-------------+--------------------+----------+----------------+----------+\n",
      "|             code|current|                team|team_gender|country_code|      country|        country_long|discipline|disciplines_code|    events|\n",
      "+-----------------+-------+--------------------+-----------+------------+-------------+--------------------+----------+----------------+----------+\n",
      "|ARCMTEAM3---CHN01|   true|People's Republic...|          M|         CHN|        China|People's Republic...|   Archery|             ARC|Men's Team|\n",
      "|ARCMTEAM3---COL01|   true|            Colombia|          M|         COL|     Colombia|            Colombia|   Archery|             ARC|Men's Team|\n",
      "|ARCMTEAM3---FRA01|   true|              France|          M|         FRA|       France|              France|   Archery|             ARC|Men's Team|\n",
      "|ARCMTEAM3---GBR01|   true|       Great Britain|          M|         GBR|Great Britain|       Great Britain|   Archery|             ARC|Men's Team|\n",
      "|ARCMTEAM3---IND01|   true|               India|          M|         IND|        India|               India|   Archery|             ARC|Men's Team|\n",
      "|ARCMTEAM3---ITA01|   true|               Italy|          M|         ITA|        Italy|               Italy|   Archery|             ARC|Men's Team|\n",
      "|ARCMTEAM3---JPN01|   true|               Japan|          M|         JPN|        Japan|               Japan|   Archery|             ARC|Men's Team|\n",
      "|ARCMTEAM3---KAZ01|   true|          Kazakhstan|          M|         KAZ|   Kazakhstan|          Kazakhstan|   Archery|             ARC|Men's Team|\n",
      "|ARCMTEAM3---KOR01|   true|   Republic of Korea|          M|         KOR|        Korea|   Republic of Korea|   Archery|             ARC|Men's Team|\n",
      "|ARCMTEAM3---MEX01|   true|              Mexico|          M|         MEX|       Mexico|              Mexico|   Archery|             ARC|Men's Team|\n",
      "+-----------------+-------+--------------------+-----------+------------+-------------+--------------------+----------+----------------+----------+\n",
      "only showing top 10 rows\n",
      "\n"
     ]
    }
   ],
   "source": [
    "teams[teams.columns[0:10]].show(n=10)"
   ]
  },
  {
   "cell_type": "code",
   "execution_count": null,
   "metadata": {
    "application/vnd.databricks.v1+cell": {
     "cellMetadata": {
      "byteLimit": 2048000,
      "rowLimit": 10000
     },
     "inputWidgets": {},
     "nuid": "388191de-e22c-4095-93f5-9178ce71a292",
     "showTitle": false,
     "title": ""
    }
   },
   "outputs": [
    {
     "name": "stdout",
     "output_type": "stream",
     "text": [
      "root\n",
      " |-- code: string (nullable = true)\n",
      " |-- current: boolean (nullable = true)\n",
      " |-- team: string (nullable = true)\n",
      " |-- team_gender: string (nullable = true)\n",
      " |-- country_code: string (nullable = true)\n",
      " |-- country: string (nullable = true)\n",
      " |-- country_long: string (nullable = true)\n",
      " |-- discipline: string (nullable = true)\n",
      " |-- disciplines_code: string (nullable = true)\n",
      " |-- events: string (nullable = true)\n",
      " |-- athletes: string (nullable = true)\n",
      " |-- coaches: string (nullable = true)\n",
      " |-- athletes_codes: string (nullable = true)\n",
      " |-- num_athletes: string (nullable = true)\n",
      " |-- coaches_codes: string (nullable = true)\n",
      " |-- num_coaches: string (nullable = true)\n",
      "\n"
     ]
    }
   ],
   "source": [
    "teams.printSchema()"
   ]
  },
  {
   "cell_type": "markdown",
   "metadata": {
    "application/vnd.databricks.v1+cell": {
     "cellMetadata": {
      "byteLimit": 2048000,
      "rowLimit": 10000
     },
     "inputWidgets": {},
     "nuid": "eb8e08f0-b9f0-456e-9bb0-8c5c11154c2e",
     "showTitle": false,
     "title": ""
    }
   },
   "source": [
    "### Transform data\n",
    "___\n",
    "1) Change data type\n",
    "2) Partition, column selection & write files"
   ]
  },
  {
   "cell_type": "markdown",
   "metadata": {
    "application/vnd.databricks.v1+cell": {
     "cellMetadata": {
      "byteLimit": 2048000,
      "rowLimit": 10000
     },
     "inputWidgets": {},
     "nuid": "2da31131-b6f9-4239-9bc6-982cc1e54149",
     "showTitle": false,
     "title": ""
    }
   },
   "source": [
    "**1. Change data type** </br>\n",
    "Medal_type is loaded in as a double .. check to see if this can be converted to an int."
   ]
  },
  {
   "cell_type": "code",
   "execution_count": null,
   "metadata": {
    "application/vnd.databricks.v1+cell": {
     "cellMetadata": {
      "byteLimit": 2048000,
      "rowLimit": 10000
     },
     "inputWidgets": {},
     "nuid": "1ce2166e-a70c-461f-b3b5-24cc162251d6",
     "showTitle": false,
     "title": ""
    }
   },
   "outputs": [
    {
     "data": {
      "text/plain": [
       "3.0    384\n",
       "2.0    330\n",
       "1.0    329\n",
       "Name: medal_code, dtype: int64"
      ]
     },
     "execution_count": 23,
     "metadata": {},
     "output_type": "execute_result"
    }
   ],
   "source": [
    "# Values can only be whole numbers\n",
    "medals.toPandas().medal_code.value_counts()"
   ]
  },
  {
   "cell_type": "code",
   "execution_count": null,
   "metadata": {
    "application/vnd.databricks.v1+cell": {
     "cellMetadata": {
      "byteLimit": 2048000,
      "rowLimit": 10000
     },
     "inputWidgets": {},
     "nuid": "4c0a630b-31c3-4adb-83ce-89017d54bc85",
     "showTitle": false,
     "title": ""
    }
   },
   "outputs": [],
   "source": [
    "# Change data type\n",
    "medals = medals.withColumn(\"medal_code\", medals[\"medal_code\"].cast(\"int\"))"
   ]
  },
  {
   "cell_type": "code",
   "execution_count": null,
   "metadata": {
    "application/vnd.databricks.v1+cell": {
     "cellMetadata": {
      "byteLimit": 2048000,
      "rowLimit": 10000
     },
     "inputWidgets": {},
     "nuid": "2a221b8b-2ab6-4dba-970f-d2a0d0e85cef",
     "showTitle": false,
     "title": ""
    }
   },
   "outputs": [
    {
     "name": "stdout",
     "output_type": "stream",
     "text": [
      "+------------+----------+----------+---------------+------+------------+--------------------+----------+--------------------+-----------------+\n",
      "|  medal_type|medal_code|medal_date|           name|gender|  discipline|               event|event_type|           url_event|             code|\n",
      "+------------+----------+----------+---------------+------+------------+--------------------+----------+--------------------+-----------------+\n",
      "|  Gold Medal|         1|2024-07-27|Remco EVENEPOEL|     M|Cycling Road|Men's Individual ...|       ATH|/en/paris-2024/re...|          1903136|\n",
      "|Silver Medal|         2|2024-07-27|  Filippo GANNA|     M|Cycling Road|Men's Individual ...|       ATH|/en/paris-2024/re...|          1923520|\n",
      "|Bronze Medal|         3|2024-07-27|  Wout van AERT|     M|Cycling Road|Men's Individual ...|       ATH|/en/paris-2024/re...|          1903147|\n",
      "|  Gold Medal|         1|2024-07-27|    Grace BROWN|     W|Cycling Road|Women's Individua...|       ATH|/en/paris-2024/re...|          1940173|\n",
      "|Silver Medal|         2|2024-07-27| Anna HENDERSON|     W|Cycling Road|Women's Individua...|       ATH|/en/paris-2024/re...|          1912525|\n",
      "|Bronze Medal|         3|2024-07-27|   Chloe DYGERT|     W|Cycling Road|Women's Individua...|       ATH|/en/paris-2024/re...|          1955079|\n",
      "|  Gold Medal|         1|2024-07-27|          China|     W|      Diving|Women's Synchroni...|      TEAM|/en/paris-2024/re...|DIVW3MTEAM2-CHN01|\n",
      "|Silver Medal|         2|2024-07-27|  United States|     W|      Diving|Women's Synchroni...|      TEAM|/en/paris-2024/re...|DIVW3MTEAM2-USA01|\n",
      "|Bronze Medal|         3|2024-07-27|  Great Britain|     W|      Diving|Women's Synchroni...|      TEAM|/en/paris-2024/re...|DIVW3MTEAM2-GBR01|\n",
      "|  Gold Medal|         1|2024-07-27|      OH Sanguk|     M|     Fencing|Men's Sabre Indiv...|      HATH|/en/paris-2024/re...|          1927149|\n",
      "+------------+----------+----------+---------------+------+------------+--------------------+----------+--------------------+-----------------+\n",
      "only showing top 10 rows\n",
      "\n"
     ]
    }
   ],
   "source": [
    "# Check that medal_code is now an integer\n",
    "medals[medals.columns[0:10]].show(n=10)"
   ]
  },
  {
   "cell_type": "markdown",
   "metadata": {
    "application/vnd.databricks.v1+cell": {
     "cellMetadata": {
      "byteLimit": 2048000,
      "rowLimit": 10000
     },
     "inputWidgets": {},
     "nuid": "c50595b7-f9fc-420e-9747-b7e9f15f41a1",
     "showTitle": false,
     "title": ""
    }
   },
   "source": [
    "**2. Partition, column selection & write files** </br>\n",
    "Partition files into 1 partition (for ease) and write to data-transformed directory"
   ]
  },
  {
   "cell_type": "code",
   "execution_count": null,
   "metadata": {
    "application/vnd.databricks.v1+cell": {
     "cellMetadata": {
      "byteLimit": 2048000,
      "rowLimit": 10000
     },
     "inputWidgets": {},
     "nuid": "d3cadeb9-5f96-4ac8-ba4b-39d2209fe180",
     "showTitle": false,
     "title": ""
    }
   },
   "outputs": [],
   "source": [
    "athletes[athletes.columns[0:10]].repartition(1).write.mode(\"overwrite\").option(\"header\",'true').csv(\"/mnt/paris-olympic-data/data-transformed/athletes\")\n",
    "coaches[coaches.columns[0:10]].repartition(1).write.mode(\"overwrite\").option(\"header\",\"true\").csv(\"/mnt/paris-olympic-data/data-transformed/coaches\")\n",
    "medals[medals.columns[0:10]].repartition(1).write.mode(\"overwrite\").option(\"header\",\"true\").csv(\"/mnt/paris-olympic-data/data-transformed/medals\")\n",
    "teams[teams.columns[0:10]].repartition(1).write.mode(\"overwrite\").option(\"header\",\"true\").csv(\"/mnt/paris-olympic-data/data-transformed/teams\")"
   ]
  }
 ],
 "metadata": {
  "application/vnd.databricks.v1+notebook": {
   "dashboards": [],
   "environmentMetadata": null,
   "language": "python",
   "notebookMetadata": {
    "mostRecentlyExecutedCommandWithImplicitDF": {
     "commandId": 3167693219272716,
     "dataframes": [
      "_sqldf"
     ]
    },
    "pythonIndentUnit": 4
   },
   "notebookName": "paris-olympics-transformation",
   "widgets": {}
  },
  "kernelspec": {
   "display_name": "Python 3 (ipykernel)",
   "language": "python",
   "name": "python3"
  },
  "language_info": {
   "codemirror_mode": {
    "name": "ipython",
    "version": 3
   },
   "file_extension": ".py",
   "mimetype": "text/x-python",
   "name": "python",
   "nbconvert_exporter": "python",
   "pygments_lexer": "ipython3",
   "version": "3.12.0"
  }
 },
 "nbformat": 4,
 "nbformat_minor": 4
}
